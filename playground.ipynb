{
 "cells": [
  {
   "cell_type": "code",
   "execution_count": 10,
   "metadata": {
    "collapsed": false
   },
   "outputs": [],
   "source": [
    "import math\n",
    "import random\n",
    "import copy\n",
    "from numpy.random import beta\n",
    "from __future__ import division\n",
    "\n",
    "class Arms():\n",
    "    def __init__(self, mus):\n",
    "        self.mus = mus\n",
    "        self.n_arms = len(mus)\n",
    "        self.best = max(mus)\n",
    "        assert all(0 <= mu <= 1 for mu in mus)\n",
    "\n",
    "    def __str__(self):\n",
    "        return str(self.mus)\n",
    "\n",
    "    def pull(self, idx):\n",
    "        # Bernoulli reward\n",
    "        return 1 if random.random() < self.mus[idx] else 0\n",
    "\n",
    "\n",
    "def experiment(arms, policy, T, N=1):\n",
    "    ''' Run experiment N times, each with timespan T\n",
    "        and return average total regret '''\n",
    "    best_mu = arms.best\n",
    "    n_arms = arms.n_arms\n",
    "    total_regret = 0\n",
    "    policy_backup = copy.deepcopy(policy)\n",
    "\n",
    "    for n in range(N):\n",
    "        policy = copy.deepcopy(policy_backup)\n",
    "        history = [[0, 0] for _ in range(n_arms)]\n",
    "        for t in range(T):\n",
    "            picked = policy.pick(n_arms, history)\n",
    "            reward = arms.pull(picked)\n",
    "            history[picked][0] += reward\n",
    "            history[picked][1] += 1\n",
    "            total_regret += best_mu - arms.mus[picked]\n",
    "    return total_regret / N\n",
    "\n",
    "def experiment_range(arms, policy, T, draw_points):\n",
    "    ''' Run experiment N times, each with timespan T\n",
    "        and return average total regret '''\n",
    "    best_mu = arms.best\n",
    "    n_arms = arms.n_arms\n",
    "    total_regret = 0\n",
    "    policy_backup = copy.deepcopy(policy)\n",
    "\n",
    "    policy = copy.deepcopy(policy_backup)\n",
    "    history = [[0, 0] for _ in range(n_arms)]\n",
    "    y = []\n",
    "    for t in range(T):\n",
    "        picked = policy.pick(n_arms, history)\n",
    "        reward = arms.pull(picked)\n",
    "        history[picked][0] += reward\n",
    "        history[picked][1] += 1\n",
    "        total_regret += best_mu - arms.mus[picked]\n",
    "        if t in draw_points:\n",
    "            y.append(total_regret)\n",
    "            print(t, total_regret)\n",
    "            \n",
    "        if t % (T/4) == 0: print(t, '...')\n",
    "    return y\n",
    "\n",
    "def argmax(s):\n",
    "    ''' return the first index corresponding to the max element '''\n",
    "    return s.index(max(s))\n",
    "\n",
    "\n",
    "class Policy():\n",
    "    def __init__(self):\n",
    "        pass\n",
    "\n",
    "    def pick(self, n_arms, history, to_pick=[]):\n",
    "        ''' to_pick stores the future picks '''\n",
    "        pass\n",
    "\n",
    "\n",
    "class RandomPick(Policy):\n",
    "    def pick(self, n_arms, history):\n",
    "        return random.choice(range(n_arms))\n",
    "\n",
    "    \n",
    "class BatchRandomPick(Policy):\n",
    "    def __init__(self, batch_size):\n",
    "        self.batch_size = batch_size\n",
    "\n",
    "    def pick(self, n_arms, history, to_pick=[]):\n",
    "        if not to_pick:\n",
    "            to_pick += [random.choice(range(n_arms))] * self.batch_size\n",
    "        return to_pick.pop()\n",
    "\n",
    "\n",
    "class EpsGreedy(Policy):\n",
    "    def __init__(self, eps):\n",
    "        self.eps = eps\n",
    "    def pick(self, n_arms, history):\n",
    "        if random.random() < self.eps:\n",
    "            return random.choice(range(n_arms))\n",
    "        for i, [_, n] in enumerate(history):\n",
    "            if n == 0:\n",
    "                return i\n",
    "        return argmax([r / n for r, n in history])\n",
    "\n",
    "\n",
    "class UCB(Policy):\n",
    "    def pick(self, n_arms, history):\n",
    "        for i, [_, n] in enumerate(history):\n",
    "            if n == 0:\n",
    "                return i\n",
    "        t = sum(n for _, n in history)\n",
    "        ucb = [r / n + math.sqrt(math.log(t) / n) for r, n in history]\n",
    "        return argmax(ucb)\n",
    "\n",
    "    \n",
    "class BatchUCB(Policy):\n",
    "    def __init__(self, batch_size):\n",
    "        self.batch_size = batch_size\n",
    "        \n",
    "    def pick(self, n_arms, history, to_pick=[]):\n",
    "        if to_pick:\n",
    "            return to_pick.pop()\n",
    "        for i, [_, n] in enumerate(history):\n",
    "            if n == 0:\n",
    "                return i\n",
    "        t = sum(n for _, n in history)\n",
    "        ucb = [r / n + math.sqrt(math.log(t) / n) for r, n in history]\n",
    "        to_pick += [argmax(ucb)] * self.batch_size\n",
    "        return to_pick.pop()\n",
    "    \n",
    "\n",
    "class Thompson(Policy):\n",
    "    def pick(self, n_arms, history):\n",
    "        # list of (# success, # failure)\n",
    "        S_F = [(arm_record[0], arm_record[1] - arm_record[0]) for arm_record in history]\n",
    "        probs = [beta(s + 1,f + 1) for s, f in S_F]\n",
    "        return argmax(probs)"
   ]
  },
  {
   "cell_type": "code",
   "execution_count": 11,
   "metadata": {
    "collapsed": true
   },
   "outputs": [],
   "source": [
    "# http://stackoverflow.com/questions/15204070/\n",
    "\n",
    "from scipy.stats import norm, zscore\n",
    "def sample_power_probtest(p1, p2, power=0.9, sig=0.05):\n",
    "    \n",
    "    z = norm.isf([sig / 2]) # two-sided t test\n",
    "    zp = -norm.isf([power]) \n",
    "    d = p1 - p2\n",
    "    s = 2 * ((p1 + p2) / 2) * (1 - (p1 + p2) / 2)\n",
    "    n = s * ((zp + z) ** 2) / (d ** 2)\n",
    "    return int(round(n[0]))"
   ]
  },
  {
   "cell_type": "code",
   "execution_count": 12,
   "metadata": {
    "collapsed": false
   },
   "outputs": [],
   "source": [
    "class ABTesting(Policy):\n",
    "\n",
    "    def __init__(self, power=0.8, sig=0.05):\n",
    "        from scipy.stats import norm\n",
    "        self.power = power\n",
    "        self.sig = sig\n",
    "        self.best = None\n",
    "        self.z_need = norm.isf(sig / 2) # 2-tail test\n",
    "        self.eliminated = []\n",
    "        self.to_pick = None\n",
    "\n",
    "    def test_significance(self, history1, history2):\n",
    "        [r1, n1] = history1\n",
    "        [r2, n2] = history2\n",
    "        p1 = r1 / n1\n",
    "        p2 = r2 / n2\n",
    "        try:\n",
    "            z = (p1 - p2) / math.sqrt(p1 * (1 - p1) / n1 + p2 * (1 - p2) / n2)\n",
    "        except ZeroDivisionError:\n",
    "            return 0\n",
    "        if z > self.z_need:\n",
    "            # first hand is better\n",
    "            return 1\n",
    "        if z < -self.z_need:\n",
    "            # second hand is better\n",
    "            return -1\n",
    "        # cannot tell which one is better\n",
    "        return 0\n",
    "\n",
    "    def pick(self, n_arms, history):\n",
    "        \n",
    "        if self.to_pick is None:\n",
    "            self.to_pick = list(range(n_arms))\n",
    "\n",
    "        # if we have the best choice, pick it\n",
    "        if self.best is not None:\n",
    "            return self.best\n",
    "\n",
    "        # pick the arm from to_pick if not eliminated\n",
    "        while self.to_pick:\n",
    "            pop = self.to_pick.pop()\n",
    "            if pop in self.eliminated:\n",
    "                continue\n",
    "            else:\n",
    "                return pop\n",
    "\n",
    "        # to_pick is empty\n",
    "        survived = [a for a in range(n_arms) if a not in self.eliminated]\n",
    "        for a1 in survived:\n",
    "            if a1 in self.eliminated:\n",
    "                continue\n",
    "            for a2 in survived:\n",
    "                if a1 == a2 or a2 in self.eliminated:\n",
    "                    continue\n",
    "                test = self.test_significance(history[a1], history[a2])\n",
    "                if test == 1:\n",
    "                    self.eliminated.append(a2)\n",
    "                elif test == -1:\n",
    "                    self.eliminated.append(a1)\n",
    "        survived = [a for a in range(n_arms) if a not in self.eliminated]\n",
    "        if len(survived) == 1:\n",
    "            self.best = survived[0]\n",
    "\n",
    "        if self.best is not None:\n",
    "            return self.best\n",
    "\n",
    "        # one more round\n",
    "        self.to_pick += survived\n",
    "        return self.to_pick.pop()"
   ]
  },
  {
   "cell_type": "code",
   "execution_count": 13,
   "metadata": {
    "collapsed": false
   },
   "outputs": [],
   "source": [
    "class UCBvsLCB(Policy):\n",
    "\n",
    "    def __init__(self):\n",
    "        self.best = None\n",
    "        self.eliminated = []\n",
    "        self.to_pick = None\n",
    "\n",
    "    def compare_arm(self, history1, history2, t):\n",
    "        [r1, n1] = history1\n",
    "        [r2, n2] = history2\n",
    "        ucb1 = r1 / n1 + math.sqrt(math.log(t) / n1)\n",
    "        lcb1 = r1 / n1 - math.sqrt(math.log(t) / n1)\n",
    "        ucb2 = r2 / n2 + math.sqrt(math.log(t) / n2)\n",
    "        lcb2 = r2 / n2 - math.sqrt(math.log(t) / n2)\n",
    "                                                        \n",
    "        if lcb1 > ucb2:\n",
    "            return 1\n",
    "        if lcb2 > ucb1:\n",
    "            return -1\n",
    "        return 0\n",
    "\n",
    "    def pick(self, n_arms, history, to_pick=[]):\n",
    "\n",
    "        if self.to_pick is None:\n",
    "            self.to_pick = list(range(n_arms))\n",
    "\n",
    "        # if we have the best choice, pick it\n",
    "        if self.best is not None:\n",
    "            return self.best\n",
    "\n",
    "        # pick the arm from to_pick if not eliminated\n",
    "        while self.to_pick:\n",
    "            pop = self.to_pick.pop()\n",
    "            if pop in self.eliminated:\n",
    "                continue\n",
    "            else:\n",
    "                return pop\n",
    "            \n",
    "        # to_pick is empty\n",
    "        survived = [a for a in range(n_arms) if a not in self.eliminated]\n",
    "        t = sum([n for _, n in history])\n",
    "        for a1 in survived:\n",
    "            if a1 in self.eliminated:\n",
    "                continue\n",
    "            for a2 in survived:\n",
    "                if a1 == a2 or a2 in self.eliminated:\n",
    "                    continue\n",
    "                test = self.compare_arm(history[a1], history[a2], t)\n",
    "                if test == 1:\n",
    "                    self.eliminated.append(a2)\n",
    "                elif test == -1:\n",
    "                    self.eliminated.append(a1)\n",
    "        survived = [a for a in range(n_arms) if a not in self.eliminated]\n",
    "        if len(survived) == 1:\n",
    "            self.best = survived[0]\n",
    "\n",
    "        if self.best is not None:\n",
    "            return self.best\n",
    "\n",
    "        # one more round\n",
    "        self.to_pick += survived\n",
    "        return self.to_pick.pop()"
   ]
  },
  {
   "cell_type": "code",
   "execution_count": 14,
   "metadata": {
    "collapsed": false
   },
   "outputs": [],
   "source": [
    "a = Arms([0.2, 0.25]) #Arms([0.2, 0.2, 0.2, 0.2, 0.21])\n",
    "T = 100000\n",
    "N = 100"
   ]
  },
  {
   "cell_type": "code",
   "execution_count": 6,
   "metadata": {
    "collapsed": false
   },
   "outputs": [
    {
     "name": "stderr",
     "output_type": "stream",
     "text": [
      "/usr/local/lib/python2.7/site-packages/matplotlib/font_manager.py:273: UserWarning: Matplotlib is building the font cache using fc-list. This may take a moment.\n",
      "  warnings.warn('Matplotlib is building the font cache using fc-list. This may take a moment.')\n"
     ]
    }
   ],
   "source": [
    "import matplotlib.pyplot as plt"
   ]
  },
  {
   "cell_type": "code",
   "execution_count": 24,
   "metadata": {
    "collapsed": false
   },
   "outputs": [
    {
     "data": {
      "text/plain": [
       "359.53680000599104"
      ]
     },
     "execution_count": 24,
     "metadata": {},
     "output_type": "execute_result"
    }
   ],
   "source": [
    "experiment(a, EpsGreedy(0.1), T, N)"
   ]
  },
  {
   "cell_type": "code",
   "execution_count": 15,
   "metadata": {
    "collapsed": false
   },
   "outputs": [
    {
     "name": "stdout",
     "output_type": "stream",
     "text": [
      "(0, '...')\n",
      "(128, 2.7499999999999982)\n",
      "(256, 4.299999999999993)\n",
      "(512, 11.100000000000023)\n",
      "(25000, '...')\n",
      "(50000, '...')\n",
      "(75000, '...')\n"
     ]
    }
   ],
   "source": [
    "draws = [2 ** p for p in range(7, 10)]\n",
    "ucb_y = experiment_range(a, UCB(), T, draws)\n",
    "plt.figure()\n",
    "plt.plot(draws, ucb_y, lw=1)\n",
    "plt.show()"
   ]
  },
  {
   "cell_type": "code",
   "execution_count": 40,
   "metadata": {
    "collapsed": false
   },
   "outputs": [
    {
     "name": "stdout",
     "output_type": "stream",
     "text": [
      "(256, 6.399999999999985)\n",
      "(512, 12.800000000000047)\n",
      "(1024, 25.60000000000023)\n",
      "(2048, 37.25000000000002)\n",
      "(4096, 37.25000000000002)\n",
      "(8192, 37.25000000000002)\n",
      "(16384, 37.25000000000002)\n",
      "(32768, 37.25000000000002)\n",
      "(65536, 37.25000000000002)\n",
      "(131072, 37.25000000000002)\n",
      "(262144, 37.25000000000002)\n",
      "(524288, 37.25000000000002)\n",
      "(1048576, 37.25000000000002)\n",
      "(2097152, 37.25000000000002)\n"
     ]
    },
    {
     "ename": "KeyboardInterrupt",
     "evalue": "",
     "output_type": "error",
     "traceback": [
      "\u001b[0;31m---------------------------------------------------------------------------\u001b[0m",
      "\u001b[0;31mKeyboardInterrupt\u001b[0m                         Traceback (most recent call last)",
      "\u001b[0;32m<ipython-input-40-b2dbda01eb50>\u001b[0m in \u001b[0;36m<module>\u001b[0;34m()\u001b[0m\n\u001b[1;32m      1\u001b[0m \u001b[0mdraws\u001b[0m \u001b[0;34m=\u001b[0m \u001b[0;34m[\u001b[0m\u001b[0;36m2\u001b[0m \u001b[0;34m**\u001b[0m \u001b[0mp\u001b[0m \u001b[0;32mfor\u001b[0m \u001b[0mp\u001b[0m \u001b[0;32min\u001b[0m \u001b[0mrange\u001b[0m\u001b[0;34m(\u001b[0m\u001b[0;36m8\u001b[0m\u001b[0;34m,\u001b[0m \u001b[0;36m25\u001b[0m\u001b[0;34m)\u001b[0m\u001b[0;34m]\u001b[0m\u001b[0;34m\u001b[0m\u001b[0m\n\u001b[0;32m----> 2\u001b[0;31m \u001b[0;32mprint\u001b[0m \u001b[0mexperiment\u001b[0m\u001b[0;34m(\u001b[0m\u001b[0ma\u001b[0m\u001b[0;34m,\u001b[0m \u001b[0mABTesting\u001b[0m\u001b[0;34m(\u001b[0m\u001b[0msig\u001b[0m\u001b[0;34m=\u001b[0m\u001b[0;36m0.01\u001b[0m\u001b[0;34m)\u001b[0m\u001b[0;34m,\u001b[0m \u001b[0mT\u001b[0m\u001b[0;34m,\u001b[0m \u001b[0mdraws\u001b[0m\u001b[0;34m)\u001b[0m\u001b[0;34m\u001b[0m\u001b[0m\n\u001b[0m",
      "\u001b[0;32m<ipython-input-37-769af3e8f518>\u001b[0m in \u001b[0;36mexperiment\u001b[0;34m(arms, policy, T, draw_points, N)\u001b[0m\n\u001b[1;32m     33\u001b[0m         \u001b[0;32mfor\u001b[0m \u001b[0mt\u001b[0m \u001b[0;32min\u001b[0m \u001b[0mrange\u001b[0m\u001b[0;34m(\u001b[0m\u001b[0mT\u001b[0m\u001b[0;34m)\u001b[0m\u001b[0;34m:\u001b[0m\u001b[0;34m\u001b[0m\u001b[0m\n\u001b[1;32m     34\u001b[0m             \u001b[0mpicked\u001b[0m \u001b[0;34m=\u001b[0m \u001b[0mpolicy\u001b[0m\u001b[0;34m.\u001b[0m\u001b[0mpick\u001b[0m\u001b[0;34m(\u001b[0m\u001b[0mn_arms\u001b[0m\u001b[0;34m,\u001b[0m \u001b[0mhistory\u001b[0m\u001b[0;34m)\u001b[0m\u001b[0;34m\u001b[0m\u001b[0m\n\u001b[0;32m---> 35\u001b[0;31m             \u001b[0mreward\u001b[0m \u001b[0;34m=\u001b[0m \u001b[0marms\u001b[0m\u001b[0;34m.\u001b[0m\u001b[0mpull\u001b[0m\u001b[0;34m(\u001b[0m\u001b[0mpicked\u001b[0m\u001b[0;34m)\u001b[0m\u001b[0;34m\u001b[0m\u001b[0m\n\u001b[0m\u001b[1;32m     36\u001b[0m             \u001b[0mhistory\u001b[0m\u001b[0;34m[\u001b[0m\u001b[0mpicked\u001b[0m\u001b[0;34m]\u001b[0m\u001b[0;34m[\u001b[0m\u001b[0;36m0\u001b[0m\u001b[0;34m]\u001b[0m \u001b[0;34m+=\u001b[0m \u001b[0mreward\u001b[0m\u001b[0;34m\u001b[0m\u001b[0m\n\u001b[1;32m     37\u001b[0m             \u001b[0mhistory\u001b[0m\u001b[0;34m[\u001b[0m\u001b[0mpicked\u001b[0m\u001b[0;34m]\u001b[0m\u001b[0;34m[\u001b[0m\u001b[0;36m1\u001b[0m\u001b[0;34m]\u001b[0m \u001b[0;34m+=\u001b[0m \u001b[0;36m1\u001b[0m\u001b[0;34m\u001b[0m\u001b[0m\n",
      "\u001b[0;32m<ipython-input-33-d12af4473580>\u001b[0m in \u001b[0;36mpull\u001b[0;34m(self, idx)\u001b[0m\n\u001b[1;32m     15\u001b[0m         \u001b[0;32mreturn\u001b[0m \u001b[0mstr\u001b[0m\u001b[0;34m(\u001b[0m\u001b[0mself\u001b[0m\u001b[0;34m.\u001b[0m\u001b[0mmus\u001b[0m\u001b[0;34m)\u001b[0m\u001b[0;34m\u001b[0m\u001b[0m\n\u001b[1;32m     16\u001b[0m \u001b[0;34m\u001b[0m\u001b[0m\n\u001b[0;32m---> 17\u001b[0;31m     \u001b[0;32mdef\u001b[0m \u001b[0mpull\u001b[0m\u001b[0;34m(\u001b[0m\u001b[0mself\u001b[0m\u001b[0;34m,\u001b[0m \u001b[0midx\u001b[0m\u001b[0;34m)\u001b[0m\u001b[0;34m:\u001b[0m\u001b[0;34m\u001b[0m\u001b[0m\n\u001b[0m\u001b[1;32m     18\u001b[0m         \u001b[0;31m# Bernoulli reward\u001b[0m\u001b[0;34m\u001b[0m\u001b[0;34m\u001b[0m\u001b[0m\n\u001b[1;32m     19\u001b[0m         \u001b[0;32mreturn\u001b[0m \u001b[0;36m1\u001b[0m \u001b[0;32mif\u001b[0m \u001b[0mrandom\u001b[0m\u001b[0;34m.\u001b[0m\u001b[0mrandom\u001b[0m\u001b[0;34m(\u001b[0m\u001b[0;34m)\u001b[0m \u001b[0;34m<\u001b[0m \u001b[0mself\u001b[0m\u001b[0;34m.\u001b[0m\u001b[0mmus\u001b[0m\u001b[0;34m[\u001b[0m\u001b[0midx\u001b[0m\u001b[0;34m]\u001b[0m \u001b[0;32melse\u001b[0m \u001b[0;36m0\u001b[0m\u001b[0;34m\u001b[0m\u001b[0m\n",
      "\u001b[0;31mKeyboardInterrupt\u001b[0m: "
     ]
    }
   ],
   "source": [
    "x,y = experiment_range(a, ABTesting(sig=0.01), T, draws)\n",
    "plt.plot(x, y, lw=1)\n",
    "plt.show()"
   ]
  },
  {
   "cell_type": "code",
   "execution_count": 20,
   "metadata": {
    "collapsed": false
   },
   "outputs": [
    {
     "data": {
      "text/plain": [
       "811.3935999874717"
      ]
     },
     "execution_count": 20,
     "metadata": {},
     "output_type": "execute_result"
    }
   ],
   "source": [
    "experiment(a, BatchUCB(100), T, N)"
   ]
  },
  {
   "cell_type": "code",
   "execution_count": 21,
   "metadata": {
    "collapsed": false
   },
   "outputs": [
    {
     "data": {
      "text/plain": [
       "232.21880000321198"
      ]
     },
     "execution_count": 21,
     "metadata": {},
     "output_type": "execute_result"
    }
   ],
   "source": [
    "experiment(a, Thompson(), T, N)"
   ]
  },
  {
   "cell_type": "code",
   "execution_count": 23,
   "metadata": {
    "collapsed": false
   },
   "outputs": [
    {
     "data": {
      "text/plain": [
       "764.1783999950295"
      ]
     },
     "execution_count": 23,
     "metadata": {},
     "output_type": "execute_result"
    }
   ],
   "source": [
    "experiment(a, ABTesting(sig=0.01), T, N)"
   ]
  },
  {
   "cell_type": "code",
   "execution_count": 16,
   "metadata": {
    "collapsed": false
   },
   "outputs": [
    {
     "data": {
      "text/plain": [
       "799.9999999832389"
      ]
     },
     "execution_count": 16,
     "metadata": {},
     "output_type": "execute_result"
    }
   ],
   "source": [
    "experiment(a, UCBvsLCB(), T, N)"
   ]
  },
  {
   "cell_type": "code",
   "execution_count": 9,
   "metadata": {
    "collapsed": false
   },
   "outputs": [
    {
     "data": {
      "text/plain": [
       "799.6305999831637"
      ]
     },
     "execution_count": 9,
     "metadata": {},
     "output_type": "execute_result"
    }
   ],
   "source": [
    "experiment(a, RandomPick(), T, N)"
   ]
  },
  {
   "cell_type": "code",
   "execution_count": 10,
   "metadata": {
    "collapsed": false
   },
   "outputs": [
    {
     "data": {
      "text/plain": [
       "798.4799999829293"
      ]
     },
     "execution_count": 10,
     "metadata": {},
     "output_type": "execute_result"
    }
   ],
   "source": [
    "experiment(a, BatchRandomPick(100), T, N)"
   ]
  },
  {
   "cell_type": "raw",
   "metadata": {
    "collapsed": true
   },
   "source": [
    "For AB testing, we test until A's lower bound is greater than B's upper bound with high probability, and then play A after that. For UCB, we are likely to play the better arm more than the inferior one. Until the upper bound of the inferior arm is less than the better arm's true mean."
   ]
  },
  {
   "cell_type": "code",
   "execution_count": null,
   "metadata": {
    "collapsed": true
   },
   "outputs": [],
   "source": []
  }
 ],
 "metadata": {
  "kernelspec": {
   "display_name": "Python 2",
   "language": "python",
   "name": "python2"
  },
  "language_info": {
   "codemirror_mode": {
    "name": "ipython",
    "version": 2
   },
   "file_extension": ".py",
   "mimetype": "text/x-python",
   "name": "python",
   "nbconvert_exporter": "python",
   "pygments_lexer": "ipython2",
   "version": "2.7.11"
  }
 },
 "nbformat": 4,
 "nbformat_minor": 0
}
