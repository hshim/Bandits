{
 "cells": [
  {
   "cell_type": "code",
   "execution_count": 155,
   "metadata": {
    "collapsed": false
   },
   "outputs": [],
   "source": [
    "import math\n",
    "import random\n",
    "import copy\n",
    "\n",
    "class Arms():\n",
    "    def __init__(self, mus):\n",
    "        self.mus = mus\n",
    "        self.n_arms = len(mus)\n",
    "        self.best = max(mus)\n",
    "        assert all(0 <= mu <= 1 for mu in mus)\n",
    "\n",
    "    def __str__(self):\n",
    "        return str(self.mus)\n",
    "\n",
    "    def pull(self, idx):\n",
    "        # Bernoulli reward\n",
    "        return 1 if random.random() < self.mus[idx] else 0\n",
    "\n",
    "\n",
    "class Policy():\n",
    "    def __init__(self):\n",
    "        pass\n",
    "\n",
    "    def pick(self, n_arms, history, to_pick=[]):\n",
    "        ''' to_pick stores the future picks '''\n",
    "        pass\n",
    "\n",
    "\n",
    "def experiment(arms, policy, T, N=1):\n",
    "    ''' Run experiment N times, each with timespan T\n",
    "        and return average total regret '''\n",
    "    best_mu = arms.best\n",
    "    n_arms = arms.n_arms\n",
    "    total_regret = 0\n",
    "    policy_backup = copy.deepcopy(policy)\n",
    "\n",
    "    for n in range(N):\n",
    "        policy = copy.deepcopy(policy_backup)\n",
    "        history = [[0, 0] for _ in range(n_arms)]\n",
    "        for t in range(T):\n",
    "            picked = policy.pick(n_arms, history)\n",
    "            reward = arms.pull(picked)\n",
    "            history[picked][0] += reward\n",
    "            history[picked][1] += 1\n",
    "            total_regret += best_mu - arms.mus[picked]\n",
    "\n",
    "    return total_regret / N\n",
    "\n",
    "\n",
    "def argmax(s):\n",
    "    ''' return the first index corresponding to the max element '''\n",
    "    return s.index(max(s))\n",
    "\n",
    "\n",
    "class RandomPick(Policy):\n",
    "    def pick(self, n_arms, history):\n",
    "        return random.choice(range(n_arms))\n",
    "\n",
    "\n",
    "class EpsGreedy(Policy):\n",
    "    def __init__(self, eps):\n",
    "        self.eps = eps\n",
    "    def pick(self, n_arms, history):\n",
    "        if random.random() < self.eps:\n",
    "            return random.choice(range(n_arms))\n",
    "        for i, [_, n] in enumerate(history):\n",
    "            if n == 0:\n",
    "                return i\n",
    "        return argmax([r / n for r, n in history])\n",
    "\n",
    "class UCB(Policy):\n",
    "    def pick(self, n_arms, history):\n",
    "        for i, [_, n] in enumerate(history):\n",
    "            if n == 0:\n",
    "                return i\n",
    "        t = sum(n for _, n in history)\n",
    "        ucb = [r / n + math.sqrt(math.log(t) / n) for r, n in history]\n",
    "        return argmax(ucb)"
   ]
  },
  {
   "cell_type": "code",
   "execution_count": 19,
   "metadata": {
    "collapsed": false
   },
   "outputs": [],
   "source": [
    "class BatchRandomPick(Policy):\n",
    "    def __init__(self, batch_size):\n",
    "        self.batch_size = batch_size\n",
    "\n",
    "    def pick(self, n_arms, history, to_pick=[]):\n",
    "        if not to_pick:\n",
    "            to_pick += [random.choice(range(n_arms))] * self.batch_size\n",
    "        return to_pick.pop()"
   ]
  },
  {
   "cell_type": "code",
   "execution_count": 20,
   "metadata": {
    "collapsed": false
   },
   "outputs": [],
   "source": [
    "class BatchUCB(Policy):\n",
    "    def __init__(self, batch_size):\n",
    "        self.batch_size = batch_size\n",
    "        \n",
    "    def pick(self, n_arms, history, to_pick=[]):\n",
    "        if to_pick:\n",
    "            return to_pick.pop()\n",
    "        for i, [_, n] in enumerate(history):\n",
    "            if n == 0:\n",
    "                return i\n",
    "        t = sum(n for _, n in history)\n",
    "        ucb = [r / n + math.sqrt(math.log(t) / n) for r, n in history]\n",
    "        to_pick += [argmax(ucb)] * self.batch_size\n",
    "        return to_pick.pop()"
   ]
  },
  {
   "cell_type": "code",
   "execution_count": 171,
   "metadata": {
    "collapsed": false
   },
   "outputs": [],
   "source": [
    "a = Arms([0.2, 0.25])\n",
    "T = 100000\n",
    "N = 300"
   ]
  },
  {
   "cell_type": "code",
   "execution_count": 172,
   "metadata": {
    "collapsed": false
   },
   "outputs": [
    {
     "data": {
      "text/plain": [
       "2500.6415004140754"
      ]
     },
     "execution_count": 172,
     "metadata": {},
     "output_type": "execute_result"
    }
   ],
   "source": [
    "experiment(a, RandomPick(), T, N)"
   ]
  },
  {
   "cell_type": "code",
   "execution_count": 173,
   "metadata": {
    "collapsed": false
   },
   "outputs": [
    {
     "data": {
      "text/plain": [
       "2504.1500004173427"
      ]
     },
     "execution_count": 173,
     "metadata": {},
     "output_type": "execute_result"
    }
   ],
   "source": [
    "experiment(a, BatchRandomPick(100), T, N)"
   ]
  },
  {
   "cell_type": "code",
   "execution_count": 174,
   "metadata": {
    "collapsed": false
   },
   "outputs": [
    {
     "data": {
      "text/plain": [
       "275.7923333419067"
      ]
     },
     "execution_count": 174,
     "metadata": {},
     "output_type": "execute_result"
    }
   ],
   "source": [
    "experiment(a, EpsGreedy(0.1), T, N)"
   ]
  },
  {
   "cell_type": "code",
   "execution_count": 175,
   "metadata": {
    "collapsed": false
   },
   "outputs": [
    {
     "data": {
      "text/plain": [
       "155.46583333490284"
      ]
     },
     "execution_count": 175,
     "metadata": {},
     "output_type": "execute_result"
    }
   ],
   "source": [
    "experiment(a, UCB(), T, N)"
   ]
  },
  {
   "cell_type": "code",
   "execution_count": 176,
   "metadata": {
    "collapsed": false
   },
   "outputs": [
    {
     "data": {
      "text/plain": [
       "157.59966666836036"
      ]
     },
     "execution_count": 176,
     "metadata": {},
     "output_type": "execute_result"
    }
   ],
   "source": [
    "experiment(a, BatchUCB(100), T, N)"
   ]
  },
  {
   "cell_type": "code",
   "execution_count": 177,
   "metadata": {
    "collapsed": false
   },
   "outputs": [
    {
     "data": {
      "text/plain": [
       "120.78799999955098"
      ]
     },
     "execution_count": 177,
     "metadata": {},
     "output_type": "execute_result"
    }
   ],
   "source": [
    "experiment(a, ABTesting(sig=0.01), T, N)"
   ]
  },
  {
   "cell_type": "code",
   "execution_count": 39,
   "metadata": {
    "collapsed": true
   },
   "outputs": [],
   "source": [
    "# http://stackoverflow.com/questions/15204070/\n",
    "\n",
    "from scipy.stats import norm, zscore\n",
    "def sample_power_probtest(p1, p2, power=0.9, sig=0.05):\n",
    "    \n",
    "    z = norm.isf([sig / 2]) # two-sided t test\n",
    "    zp = -norm.isf([power]) \n",
    "    d = p1 - p2\n",
    "    s = 2 * ((p1 + p2) / 2) * (1 - (p1 + p2) / 2)\n",
    "    n = s * ((zp + z) ** 2) / (d ** 2)\n",
    "    return int(round(n[0]))"
   ]
  },
  {
   "cell_type": "code",
   "execution_count": 66,
   "metadata": {
    "collapsed": true
   },
   "outputs": [],
   "source": [
    "def z(history):\n",
    "    [r1, n1], [r2, n2] = history\n",
    "    p1 = r1 / n1\n",
    "    p2 = r2 / n2\n",
    "    z = (p1 - p2) / math.sqrt(p1 * (1 - p1) / n1 + p2 * (1 - p2) / n2)\n",
    "    return z"
   ]
  },
  {
   "cell_type": "code",
   "execution_count": 67,
   "metadata": {
    "collapsed": false
   },
   "outputs": [
    {
     "data": {
      "text/plain": [
       "-36.315627518946926"
      ]
     },
     "execution_count": 67,
     "metadata": {},
     "output_type": "execute_result"
    }
   ],
   "source": [
    "z([[10021, 50000], [14960, 50000]])"
   ]
  },
  {
   "cell_type": "code",
   "execution_count": null,
   "metadata": {
    "collapsed": false
   },
   "outputs": [],
   "source": [
    "sample_power_probtest(0.2, 0.3, power=0.9, sig=0.05)"
   ]
  },
  {
   "cell_type": "code",
   "execution_count": 68,
   "metadata": {
    "collapsed": false
   },
   "outputs": [],
   "source": [
    "class ABTesting(Policy):\n",
    "\n",
    "    def __init__(self, power=0.8, sig=0.05):\n",
    "        self.power = power\n",
    "        self.sig = sig\n",
    "        self.best = None\n",
    "        self.z_need = norm.isf(sig / 2) # 2-tail test\n",
    "\n",
    "    def best_arm(self, history):\n",
    "        [r1, n1], [r2, n2] = history\n",
    "        p1 = r1 / n1\n",
    "        p2 = r2 / n2\n",
    "        z = (p1 - p2) / math.sqrt(p1 * (1 - p1) / n1 + p2 * (1 - p2) / n2)\n",
    "        if z > self.z_need:\n",
    "            self.best = 0\n",
    "        if z < -self.z_need:\n",
    "            self.best = 1\n",
    "        return self.best\n",
    "\n",
    "    def pick(self, n_arms, history, to_pick=[]):\n",
    "\n",
    "        for i, [_, n] in enumerate(history):\n",
    "            if n == 0:\n",
    "                return i\n",
    "\n",
    "        # if we have the best choice, pick it\n",
    "        if self.best is not None:\n",
    "            return self.best\n",
    "        \n",
    "        if to_pick:\n",
    "            return to_pick.pop()\n",
    "        else:\n",
    "            try:\n",
    "                self.best = self.best_arm(history)\n",
    "                if self.best is not None:\n",
    "                    return self.best\n",
    "            except ZeroDivisionError:\n",
    "                pass\n",
    "            to_pick += list(range(n_arms))\n",
    "            return to_pick.pop()"
   ]
  },
  {
   "cell_type": "raw",
   "metadata": {
    "collapsed": true
   },
   "source": [
    "For AB testing, we test until A's lower bound is greater than B's upper bound with high probability, and then play A after that. For UCB, we are likely to play the better arm more than the inferior one. Until the upper bound of the inferior arm is less than the better arm's true mean."
   ]
  }
 ],
 "metadata": {
  "kernelspec": {
   "display_name": "Python 3",
   "language": "python",
   "name": "python3"
  },
  "language_info": {
   "codemirror_mode": {
    "name": "ipython",
    "version": 3
   },
   "file_extension": ".py",
   "mimetype": "text/x-python",
   "name": "python",
   "nbconvert_exporter": "python",
   "pygments_lexer": "ipython3",
   "version": "3.4.3"
  }
 },
 "nbformat": 4,
 "nbformat_minor": 0
}
