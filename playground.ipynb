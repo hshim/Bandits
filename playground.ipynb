{
 "cells": [
  {
   "cell_type": "code",
   "execution_count": 2,
   "metadata": {
    "collapsed": false
   },
   "outputs": [],
   "source": [
    "import math\n",
    "import random\n",
    "import copy\n",
    "from numpy.random import beta\n",
    "from __future__ import division\n",
    "\n",
    "class Arms():\n",
    "    def __init__(self, mus):\n",
    "        self.mus = mus\n",
    "        self.n_arms = len(mus)\n",
    "        self.best = max(mus)\n",
    "        assert all(0 <= mu <= 1 for mu in mus)\n",
    "\n",
    "    def __str__(self):\n",
    "        return str(self.mus)\n",
    "\n",
    "    def pull(self, idx):\n",
    "        # Bernoulli reward\n",
    "        return 1 if random.random() < self.mus[idx] else 0\n",
    "\n",
    "\n",
    "def experiment(arms, policy, T, N=1):\n",
    "    ''' Run experiment N times, each with timespan T\n",
    "        and return average total regret '''\n",
    "    best_mu = arms.best\n",
    "    n_arms = arms.n_arms\n",
    "    total_regret = 0\n",
    "    policy_backup = copy.deepcopy(policy)\n",
    "\n",
    "    for n in range(N):\n",
    "        policy = copy.deepcopy(policy_backup)\n",
    "        history = [[0, 0] for _ in range(n_arms)]\n",
    "        for t in range(T):\n",
    "            picked = policy.pick(n_arms, history)\n",
    "            reward = arms.pull(picked)\n",
    "            history[picked][0] += reward\n",
    "            history[picked][1] += 1\n",
    "            total_regret += best_mu - arms.mus[picked]\n",
    "\n",
    "    return total_regret / N\n",
    "\n",
    "\n",
    "def argmax(s):\n",
    "    ''' return the first index corresponding to the max element '''\n",
    "    return s.index(max(s))\n",
    "\n",
    "\n",
    "class Policy():\n",
    "    def __init__(self):\n",
    "        pass\n",
    "\n",
    "    def pick(self, n_arms, history, to_pick=[]):\n",
    "        ''' to_pick stores the future picks '''\n",
    "        pass\n",
    "\n",
    "\n",
    "class RandomPick(Policy):\n",
    "    def pick(self, n_arms, history):\n",
    "        return random.choice(range(n_arms))\n",
    "\n",
    "    \n",
    "class BatchRandomPick(Policy):\n",
    "    def __init__(self, batch_size):\n",
    "        self.batch_size = batch_size\n",
    "\n",
    "    def pick(self, n_arms, history, to_pick=[]):\n",
    "        if not to_pick:\n",
    "            to_pick += [random.choice(range(n_arms))] * self.batch_size\n",
    "        return to_pick.pop()\n",
    "\n",
    "\n",
    "class EpsGreedy(Policy):\n",
    "    def __init__(self, eps):\n",
    "        self.eps = eps\n",
    "    def pick(self, n_arms, history):\n",
    "        if random.random() < self.eps:\n",
    "            return random.choice(range(n_arms))\n",
    "        for i, [_, n] in enumerate(history):\n",
    "            if n == 0:\n",
    "                return i\n",
    "        return argmax([r / n for r, n in history])\n",
    "\n",
    "\n",
    "class UCB(Policy):\n",
    "    def pick(self, n_arms, history):\n",
    "        for i, [_, n] in enumerate(history):\n",
    "            if n == 0:\n",
    "                return i\n",
    "        t = sum(n for _, n in history)\n",
    "        ucb = [r / n + math.sqrt(math.log(t) / n) for r, n in history]\n",
    "        return argmax(ucb)\n",
    "\n",
    "    \n",
    "class BatchUCB(Policy):\n",
    "    def __init__(self, batch_size):\n",
    "        self.batch_size = batch_size\n",
    "        \n",
    "    def pick(self, n_arms, history, to_pick=[]):\n",
    "        if to_pick:\n",
    "            return to_pick.pop()\n",
    "        for i, [_, n] in enumerate(history):\n",
    "            if n == 0:\n",
    "                return i\n",
    "        t = sum(n for _, n in history)\n",
    "        ucb = [r / n + math.sqrt(math.log(t) / n) for r, n in history]\n",
    "        to_pick += [argmax(ucb)] * self.batch_size\n",
    "        return to_pick.pop()\n",
    "    \n",
    "\n",
    "class Thompson(Policy):\n",
    "    def pick(self, n_arms, history):\n",
    "        # list of (# success, # failure)\n",
    "        S_F = [(arm_record[0], arm_record[1] - arm_record[0]) for arm_record in history]\n",
    "        probs = [beta(s + 1,f + 1) for s, f in S_F]\n",
    "        return argmax(probs)"
   ]
  },
  {
   "cell_type": "code",
   "execution_count": 3,
   "metadata": {
    "collapsed": true
   },
   "outputs": [],
   "source": [
    "# http://stackoverflow.com/questions/15204070/\n",
    "\n",
    "from scipy.stats import norm, zscore\n",
    "def sample_power_probtest(p1, p2, power=0.9, sig=0.05):\n",
    "    \n",
    "    z = norm.isf([sig / 2]) # two-sided t test\n",
    "    zp = -norm.isf([power]) \n",
    "    d = p1 - p2\n",
    "    s = 2 * ((p1 + p2) / 2) * (1 - (p1 + p2) / 2)\n",
    "    n = s * ((zp + z) ** 2) / (d ** 2)\n",
    "    return int(round(n[0]))"
   ]
  },
  {
   "cell_type": "code",
   "execution_count": 4,
   "metadata": {
    "collapsed": false
   },
   "outputs": [],
   "source": [
    "class ABTesting(Policy):\n",
    "\n",
    "    def __init__(self, power=0.8, sig=0.05):\n",
    "        from scipy.stats import norm\n",
    "        self.power = power\n",
    "        self.sig = sig\n",
    "        self.best = None\n",
    "        self.z_need = norm.isf(sig / 2) # 2-tail test\n",
    "        self.eliminated = []\n",
    "        self.to_pick = None\n",
    "\n",
    "    def test_significance(self, history1, history2):\n",
    "        [r1, n1] = history1\n",
    "        [r2, n2] = history2\n",
    "        p1 = r1 / n1\n",
    "        p2 = r2 / n2\n",
    "        try:\n",
    "            z = (p1 - p2) / math.sqrt(p1 * (1 - p1) / n1 + p2 * (1 - p2) / n2)\n",
    "        except ZeroDivisionError:\n",
    "            return 0\n",
    "        if z > self.z_need:\n",
    "            # first hand is better\n",
    "            return 1\n",
    "        if z < -self.z_need:\n",
    "            # second hand is better\n",
    "            return -1\n",
    "        # cannot tell which one is better\n",
    "        return 0\n",
    "\n",
    "    def pick(self, n_arms, history):\n",
    "        \n",
    "        if self.to_pick is None:\n",
    "            self.to_pick = list(range(n_arms))\n",
    "\n",
    "        # if we have the best choice, pick it\n",
    "        if self.best is not None:\n",
    "            return self.best\n",
    "\n",
    "        # pick the arm from to_pick if not eliminated\n",
    "        while self.to_pick:\n",
    "            pop = self.to_pick.pop()\n",
    "            if pop in self.eliminated:\n",
    "                continue\n",
    "            else:\n",
    "                return pop\n",
    "\n",
    "        # to_pick is empty\n",
    "        survived = [a for a in range(n_arms) if a not in self.eliminated]\n",
    "        for a1 in survived:\n",
    "            if a1 in self.eliminated:\n",
    "                continue\n",
    "            for a2 in survived:\n",
    "                if a1 == a2 or a2 in self.eliminated:\n",
    "                    continue\n",
    "                test = self.test_significance(history[a1], history[a2])\n",
    "                if test == 1:\n",
    "                    self.eliminated.append(a2)\n",
    "                elif test == -1:\n",
    "                    self.eliminated.append(a1)\n",
    "        survived = [a for a in range(n_arms) if a not in self.eliminated]\n",
    "        if len(survived) == 1:\n",
    "            self.best = survived[0]\n",
    "\n",
    "        if self.best is not None:\n",
    "            return self.best\n",
    "\n",
    "        # one more round\n",
    "        self.to_pick += survived\n",
    "        return self.to_pick.pop()"
   ]
  },
  {
   "cell_type": "code",
   "execution_count": 5,
   "metadata": {
    "collapsed": false
   },
   "outputs": [],
   "source": [
    "class UCBvsLCB(Policy):\n",
    "\n",
    "    def __init__(self):\n",
    "        self.best = None\n",
    "        self.eliminated = []\n",
    "        self.to_pick = None\n",
    "\n",
    "    def compare_arm(self, history1, history2, t):\n",
    "        [r1, n1] = history1\n",
    "        [r2, n2] = history2\n",
    "        ucb1 = r1 / n1 + math.sqrt(math.log(t) / n1)\n",
    "        lcb1 = r1 / n1 - math.sqrt(math.log(t) / n1)\n",
    "        ucb2 = r2 / n2 + math.sqrt(math.log(t) / n2)\n",
    "        lcb2 = r2 / n2 - math.sqrt(math.log(t) / n2)\n",
    "                                                        \n",
    "        if lcb1 > ucb2:\n",
    "            return 1\n",
    "        if lcb2 > ucb1:\n",
    "            return -1\n",
    "        return 0\n",
    "\n",
    "    def pick(self, n_arms, history, to_pick=[]):\n",
    "\n",
    "        if self.to_pick is None:\n",
    "            self.to_pick = list(range(n_arms))\n",
    "\n",
    "        # if we have the best choice, pick it\n",
    "        if self.best is not None:\n",
    "            return self.best\n",
    "\n",
    "        # pick the arm from to_pick if not eliminated\n",
    "        while self.to_pick:\n",
    "            pop = self.to_pick.pop()\n",
    "            if pop in self.eliminated:\n",
    "                continue\n",
    "            else:\n",
    "                return pop\n",
    "            \n",
    "        # to_pick is empty\n",
    "        survived = [a for a in range(n_arms) if a not in self.eliminated]\n",
    "        t = sum([n for _, n in history])\n",
    "        for a1 in survived:\n",
    "            if a1 in self.eliminated:\n",
    "                continue\n",
    "            for a2 in survived:\n",
    "                if a1 == a2 or a2 in self.eliminated:\n",
    "                    continue\n",
    "                test = self.compare_arm(history[a1], history[a2], t)\n",
    "                if test == 1:\n",
    "                    self.eliminated.append(a2)\n",
    "                elif test == -1:\n",
    "                    self.eliminated.append(a1)\n",
    "        survived = [a for a in range(n_arms) if a not in self.eliminated]\n",
    "        if len(survived) == 1:\n",
    "            self.best = survived[0]\n",
    "\n",
    "        if self.best is not None:\n",
    "            return self.best\n",
    "\n",
    "        # one more round\n",
    "        self.to_pick += survived\n",
    "        return self.to_pick.pop()"
   ]
  },
  {
   "cell_type": "code",
   "execution_count": 6,
   "metadata": {
    "collapsed": false
   },
   "outputs": [],
   "source": [
    "a = Arms([0.2, 0.25, 0.3, 0.35, 0.4])\n",
    "T = 100000\n",
    "N = 100"
   ]
  },
  {
   "cell_type": "code",
   "execution_count": 7,
   "metadata": {
    "collapsed": false
   },
   "outputs": [
    {
     "data": {
      "text/plain": [
       "9998.307499999602"
      ]
     },
     "execution_count": 7,
     "metadata": {},
     "output_type": "execute_result"
    }
   ],
   "source": [
    "experiment(a, RandomPick(), T, N)"
   ]
  },
  {
   "cell_type": "code",
   "execution_count": 8,
   "metadata": {
    "collapsed": false
   },
   "outputs": [
    {
     "data": {
      "text/plain": [
       "9973.800000002188"
      ]
     },
     "execution_count": 8,
     "metadata": {},
     "output_type": "execute_result"
    }
   ],
   "source": [
    "experiment(a, BatchRandomPick(100), T, N)"
   ]
  },
  {
   "cell_type": "code",
   "execution_count": 9,
   "metadata": {
    "collapsed": false
   },
   "outputs": [
    {
     "data": {
      "text/plain": [
       "1077.2515000021842"
      ]
     },
     "execution_count": 9,
     "metadata": {},
     "output_type": "execute_result"
    }
   ],
   "source": [
    "experiment(a, EpsGreedy(0.1), T, N)"
   ]
  },
  {
   "cell_type": "code",
   "execution_count": 10,
   "metadata": {
    "collapsed": false
   },
   "outputs": [
    {
     "data": {
      "text/plain": [
       "361.3409999991922"
      ]
     },
     "execution_count": 10,
     "metadata": {},
     "output_type": "execute_result"
    }
   ],
   "source": [
    "experiment(a, UCB(), T, N)"
   ]
  },
  {
   "cell_type": "code",
   "execution_count": 11,
   "metadata": {
    "collapsed": false
   },
   "outputs": [
    {
     "data": {
      "text/plain": [
       "382.8999999996567"
      ]
     },
     "execution_count": 11,
     "metadata": {},
     "output_type": "execute_result"
    }
   ],
   "source": [
    "experiment(a, BatchUCB(100), T, N)"
   ]
  },
  {
   "cell_type": "code",
   "execution_count": 12,
   "metadata": {
    "collapsed": false
   },
   "outputs": [
    {
     "data": {
      "text/plain": [
       "113.56499999991361"
      ]
     },
     "execution_count": 12,
     "metadata": {},
     "output_type": "execute_result"
    }
   ],
   "source": [
    "experiment(a, Thompson(), T, N)"
   ]
  },
  {
   "cell_type": "code",
   "execution_count": 13,
   "metadata": {
    "collapsed": false
   },
   "outputs": [
    {
     "data": {
      "text/plain": [
       "625.4805000130565"
      ]
     },
     "execution_count": 13,
     "metadata": {},
     "output_type": "execute_result"
    }
   ],
   "source": [
    "experiment(a, ABTesting(sig=0.01), T, N)"
   ]
  },
  {
   "cell_type": "code",
   "execution_count": 14,
   "metadata": {
    "collapsed": false
   },
   "outputs": [
    {
     "data": {
      "text/plain": [
       "1630.954499995524"
      ]
     },
     "execution_count": 14,
     "metadata": {},
     "output_type": "execute_result"
    }
   ],
   "source": [
    "experiment(a, UCBvsLCB(), T, N)"
   ]
  },
  {
   "cell_type": "raw",
   "metadata": {
    "collapsed": true
   },
   "source": [
    "For AB testing, we test until A's lower bound is greater than B's upper bound with high probability, and then play A after that. For UCB, we are likely to play the better arm more than the inferior one. Until the upper bound of the inferior arm is less than the better arm's true mean."
   ]
  },
  {
   "cell_type": "code",
   "execution_count": null,
   "metadata": {
    "collapsed": true
   },
   "outputs": [],
   "source": []
  }
 ],
 "metadata": {
  "kernelspec": {
   "display_name": "Python 3",
   "language": "python",
   "name": "python3"
  },
  "language_info": {
   "codemirror_mode": {
    "name": "ipython",
    "version": 3
   },
   "file_extension": ".py",
   "mimetype": "text/x-python",
   "name": "python",
   "nbconvert_exporter": "python",
   "pygments_lexer": "ipython3",
   "version": "3.4.3"
  }
 },
 "nbformat": 4,
 "nbformat_minor": 0
}
