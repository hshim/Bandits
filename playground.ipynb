{
 "cells": [
  {
   "cell_type": "code",
   "execution_count": 1,
   "metadata": {
    "collapsed": false
   },
   "outputs": [],
   "source": [
    "import math\n",
    "import random\n",
    "\n",
    "class Arms():\n",
    "    def __init__(self, mus):\n",
    "        self.mus = mus\n",
    "        self.n_arms = len(mus)\n",
    "        self.best = max(mus)\n",
    "        assert all(0 <= mu <= 1 for mu in mus)\n",
    "\n",
    "    def __str__(self):\n",
    "        return str(self.mus)\n",
    "\n",
    "    def pull(self, idx):\n",
    "        # Bernoulli reward\n",
    "        return 1 if random.random() < self.mus[idx] else 0\n",
    "\n",
    "\n",
    "class Policy():\n",
    "    def __init__(self):\n",
    "        pass\n",
    "\n",
    "    def pick(self, n_arms, history, to_pick=[]):\n",
    "        ''' to_pick stores the future picks '''\n",
    "        pass\n",
    "\n",
    "\n",
    "def experiment(arms, policy, T):\n",
    "    ''' return simulated history and toal regret '''\n",
    "    best_mu = arms.best\n",
    "    n_arms = arms.n_arms\n",
    "    history = [[0, 0] for _ in range(n_arms)]\n",
    "    total_regret = 0\n",
    "\n",
    "    for t in range(T):\n",
    "        picked = policy.pick(n_arms, history)\n",
    "        reward = arms.pull(picked)\n",
    "        history[picked][0] += reward\n",
    "        history[picked][1] += 1\n",
    "        total_regret += best_mu - arms.mus[picked]\n",
    "\n",
    "    return history, total_regret\n",
    "\n",
    "\n",
    "def argmax(s):\n",
    "    ''' return the first index corresponding to the max element '''\n",
    "    return s.index(max(s))\n",
    "\n",
    "\n",
    "class RandomPick(Policy):\n",
    "    def pick(self, n_arms, history):\n",
    "        return random.choice(range(n_arms))\n",
    "\n",
    "\n",
    "class EpsGreedy(Policy):\n",
    "    def __init__(self, eps):\n",
    "        self.eps = eps\n",
    "    def pick(self, n_arms, history):\n",
    "        if random.random() < self.eps:\n",
    "            return random.choice(range(n_arms))\n",
    "        for i, [_, n] in enumerate(history):\n",
    "            if n == 0:\n",
    "                return i\n",
    "        return argmax([r / n for r, n in history])\n",
    "\n",
    "class UCB(Policy):\n",
    "    def pick(self, n_arms, history):\n",
    "        for i, [_, n] in enumerate(history):\n",
    "            if n == 0:\n",
    "                return i\n",
    "        t = sum(n for _, n in history)\n",
    "        ucb = [r / n + math.sqrt(math.log(t) / n) for r, n in history]\n",
    "        return argmax(ucb)"
   ]
  },
  {
   "cell_type": "code",
   "execution_count": 2,
   "metadata": {
    "collapsed": false
   },
   "outputs": [],
   "source": [
    "class BatchRandomPick(Policy):\n",
    "    def __init__(self, batch_size):\n",
    "        self.batch_size = batch_size\n",
    "\n",
    "    def pick(self, n_arms, history, to_pick=[]):\n",
    "        if not to_pick:\n",
    "            to_pick += [random.choice(range(n_arms))] * self.batch_size\n",
    "        return to_pick.pop()"
   ]
  },
  {
   "cell_type": "code",
   "execution_count": 3,
   "metadata": {
    "collapsed": false
   },
   "outputs": [],
   "source": [
    "class BatchUCB(Policy):\n",
    "    def __init__(self, batch_size):\n",
    "        self.batch_size = batch_size\n",
    "        \n",
    "    def pick(self, n_arms, history, to_pick=[]):\n",
    "        if to_pick:\n",
    "            return to_pick.pop()\n",
    "        for i, [_, n] in enumerate(history):\n",
    "            if n == 0:\n",
    "                return i\n",
    "        t = sum(n for _, n in history)\n",
    "        ucb = [r / n + math.sqrt(math.log(t) / n) for r, n in history]\n",
    "        to_pick += [argmax(ucb)] * self.batch_size\n",
    "        return to_pick.pop()"
   ]
  },
  {
   "cell_type": "code",
   "execution_count": 4,
   "metadata": {
    "collapsed": false
   },
   "outputs": [],
   "source": [
    "a = Arms([0.2, 0.3])\n",
    "T = 100000"
   ]
  },
  {
   "cell_type": "code",
   "execution_count": 5,
   "metadata": {
    "collapsed": false
   },
   "outputs": [
    {
     "data": {
      "text/plain": [
       "([[10100, 49959], [15088, 50041]], 4995.900000000644)"
      ]
     },
     "execution_count": 5,
     "metadata": {},
     "output_type": "execute_result"
    }
   ],
   "source": [
    "experiment(a, RandomPick(), T)"
   ]
  },
  {
   "cell_type": "code",
   "execution_count": 9,
   "metadata": {
    "collapsed": false
   },
   "outputs": [
    {
     "data": {
      "text/plain": [
       "([[300, 1401], [29646, 98599]], 140.09999999999633)"
      ]
     },
     "execution_count": 9,
     "metadata": {},
     "output_type": "execute_result"
    }
   ],
   "source": [
    "experiment(a, BatchUCB(100), T)"
   ]
  },
  {
   "cell_type": "code",
   "execution_count": 10,
   "metadata": {
    "collapsed": false
   },
   "outputs": [
    {
     "data": {
      "text/plain": [
       "([[9831, 49500], [15137, 50500]], 4950.000000000477)"
      ]
     },
     "execution_count": 10,
     "metadata": {},
     "output_type": "execute_result"
    }
   ],
   "source": [
    "experiment(a, BatchRandomPick(100), T)"
   ]
  },
  {
   "cell_type": "code",
   "execution_count": 11,
   "metadata": {
    "collapsed": false
   },
   "outputs": [
    {
     "data": {
      "text/plain": [
       "([[1012, 4925], [28493, 95075]], 492.5000000000435)"
      ]
     },
     "execution_count": 11,
     "metadata": {},
     "output_type": "execute_result"
    }
   ],
   "source": [
    "experiment(a, EpsGreedy(0.1), T)"
   ]
  },
  {
   "cell_type": "code",
   "execution_count": 12,
   "metadata": {
    "collapsed": false
   },
   "outputs": [
    {
     "data": {
      "text/plain": [
       "([[179, 910], [29592, 99090]], 90.9999999999991)"
      ]
     },
     "execution_count": 12,
     "metadata": {},
     "output_type": "execute_result"
    }
   ],
   "source": [
    "experiment(a, UCB(), T)"
   ]
  },
  {
   "cell_type": "code",
   "execution_count": 13,
   "metadata": {
    "collapsed": false
   },
   "outputs": [
    {
     "ename": "NameError",
     "evalue": "name 'ABTesting' is not defined",
     "output_type": "error",
     "traceback": [
      "\u001b[0;31m---------------------------------------------------------------------------\u001b[0m",
      "\u001b[0;31mNameError\u001b[0m                                 Traceback (most recent call last)",
      "\u001b[0;32m<ipython-input-13-da17667f510d>\u001b[0m in \u001b[0;36m<module>\u001b[0;34m()\u001b[0m\n\u001b[0;32m----> 1\u001b[0;31m \u001b[0mexperiment\u001b[0m\u001b[0;34m(\u001b[0m\u001b[0ma\u001b[0m\u001b[0;34m,\u001b[0m \u001b[0mABTesting\u001b[0m\u001b[0;34m(\u001b[0m\u001b[0;36m0.2\u001b[0m\u001b[0;34m,\u001b[0m \u001b[0;36m0.3\u001b[0m\u001b[0;34m)\u001b[0m\u001b[0;34m,\u001b[0m \u001b[0mT\u001b[0m\u001b[0;34m)\u001b[0m\u001b[0;34m\u001b[0m\u001b[0m\n\u001b[0m",
      "\u001b[0;31mNameError\u001b[0m: name 'ABTesting' is not defined"
     ]
    }
   ],
   "source": [
    "experiment(a, ABTesting(0.2, 0.3), T)"
   ]
  },
  {
   "cell_type": "code",
   "execution_count": null,
   "metadata": {
    "collapsed": false
   },
   "outputs": [],
   "source": [
    "norm.isf(0.05 / 2)"
   ]
  },
  {
   "cell_type": "code",
   "execution_count": null,
   "metadata": {
    "collapsed": true
   },
   "outputs": [],
   "source": [
    "# http://stackoverflow.com/questions/15204070/\n",
    "\n",
    "from scipy.stats import norm, zscore\n",
    "def sample_power_probtest(p1, p2, power=0.9, sig=0.05):\n",
    "    \n",
    "    z = norm.isf([sig / 2]) # two-sided t test\n",
    "    zp = -norm.isf([power]) \n",
    "    d = p1 - p2\n",
    "    s = 2 * ((p1 + p2) / 2) * (1 - (p1 + p2) / 2)\n",
    "    n = s * ((zp + z) ** 2) / (d ** 2)\n",
    "    return int(round(n[0]))"
   ]
  },
  {
   "cell_type": "code",
   "execution_count": null,
   "metadata": {
    "collapsed": false
   },
   "outputs": [],
   "source": [
    "sample_power_probtest(0.2, 0.3, power=0.9, sig=0.05)"
   ]
  },
  {
   "cell_type": "code",
   "execution_count": null,
   "metadata": {
    "collapsed": false
   },
   "outputs": [],
   "source": [
    "class ABTesting(Policy):\n",
    "\n",
    "    def __init__(self, p1, p2, power=0.8, sig=0.05):\n",
    "        self.p1 = p1\n",
    "        self.p2 = p2\n",
    "        self.power = power\n",
    "        self.sig = sig\n",
    "        self.sample_need = sample_power_probtest(p1, p2, power=0.8, sig=0.05)\n",
    "        self.to_pick = []\n",
    "        self.best = None\n",
    "        self.test_done = False\n",
    "        self.previous_history = [[0, 0], [0, 0]]\n",
    "        self.test_history = [[0, 0], [0, 0]]\n",
    "\n",
    "    def best_from_testing(self):\n",
    "        [r1, n1], [r2, n2] = self.test_history\n",
    "        p1 = r1 / n1\n",
    "        p2 = r2 / n2\n",
    "        print(p1, p2, n1, n2)\n",
    "        z = ((p1 - p2) - (self.p1 - self.p2)) / math.sqrt(p1 * (1 - p1) / n1 + p2 * (1 - p2) / n2)\n",
    "        print(z)\n",
    "        return 0\n",
    "        \n",
    "    def pick(self, n_arms, history):\n",
    "        assert n_arms == 2\n",
    "        # if we have the best choice, pick it\n",
    "        if self.best is not None:\n",
    "            return self.best\n",
    "\n",
    "        # update what happened in privous round\n",
    "        for i in range(2):\n",
    "            for j in range(2):\n",
    "                self.test_history[i][j] += history[i][j] - self.previous_history[i][j]\n",
    "                self.previous_history[i][j] = history[i][j]\n",
    "\n",
    "        if not self.to_pick:\n",
    "            if self.test_done:\n",
    "                # determine the best one from AB testing\n",
    "                self.best = self.best_from_testing()\n",
    "                self.test_done = False\n",
    "                if self.best is not None:\n",
    "                    return self.best\n",
    "            else:\n",
    "                # schedule a test\n",
    "                self.to_pick = list(range(n_arms)) * self.sample_need\n",
    "        to_pick = self.to_pick.pop()\n",
    "        if not self.to_pick:\n",
    "            self.test_done = True\n",
    "        return to_pick"
   ]
  },
  {
   "cell_type": "code",
   "execution_count": null,
   "metadata": {
    "collapsed": true
   },
   "outputs": [],
   "source": []
  }
 ],
 "metadata": {
  "kernelspec": {
   "display_name": "Python 3",
   "language": "python",
   "name": "python3"
  },
  "language_info": {
   "codemirror_mode": {
    "name": "ipython",
    "version": 3
   },
   "file_extension": ".py",
   "mimetype": "text/x-python",
   "name": "python",
   "nbconvert_exporter": "python",
   "pygments_lexer": "ipython3",
   "version": "3.4.3"
  }
 },
 "nbformat": 4,
 "nbformat_minor": 0
}
